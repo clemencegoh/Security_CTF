{
 "cells": [
  {
   "cell_type": "markdown",
   "metadata": {},
   "source": [
    "# Create coordinates\n",
    "1. Choose 32 random coordinates for flag\n",
    "1. Add 5 coordinates for `CTF{}`\n",
    "1. Partition 37 coordinates into 3\n",
    "1. Place coordinates in 3 binary images"
   ]
  },
  {
   "cell_type": "code",
   "execution_count": 1,
   "metadata": {},
   "outputs": [],
   "source": [
    "%matplotlib inline\n",
    "import numpy as np\n",
    "import matplotlib.pyplot as plt\n",
    "import cv2\n",
    "import os"
   ]
  },
  {
   "cell_type": "markdown",
   "metadata": {},
   "source": [
    "## Coordinates"
   ]
  },
  {
   "cell_type": "markdown",
   "metadata": {},
   "source": [
    "Select 5 coordinates for the text `CTF{}`. This needs to be specific.  \n",
    "Randomize the rest."
   ]
  },
  {
   "cell_type": "code",
   "execution_count": 2,
   "metadata": {},
   "outputs": [
    {
     "data": {
      "text/plain": [
       "(37, 2)"
      ]
     },
     "execution_count": 2,
     "metadata": {},
     "output_type": "execute_result"
    }
   ],
   "source": [
    "np.random.seed(1024)\n",
    "coords = np.random.randint(512, size=[37, 2])\n",
    "coords.shape"
   ]
  },
  {
   "cell_type": "code",
   "execution_count": 3,
   "metadata": {},
   "outputs": [
    {
     "data": {
      "text/plain": [
       "(12, 12, 13)"
      ]
     },
     "execution_count": 3,
     "metadata": {},
     "output_type": "execute_result"
    }
   ],
   "source": [
    "coords = [tuple(l) for l in coords]\n",
    "\n",
    "coords_g = coords[:12]\n",
    "coords_r = coords[12:24]\n",
    "coords_b = coords[24:]\n",
    "\n",
    "len(coords_r), len(coords_g), len(coords_b)"
   ]
  },
  {
   "cell_type": "markdown",
   "metadata": {},
   "source": [
    "## Images\n",
    "Create the hidden image, which should contain only values `{0, 255}`, such that it can be binarized."
   ]
  },
  {
   "cell_type": "code",
   "execution_count": 4,
   "metadata": {},
   "outputs": [],
   "source": [
    "def put_text(img, text, coord):\n",
    "    font_face = cv2.FONT_HERSHEY_DUPLEX\n",
    "    font_scale = 0.75\n",
    "    font_color = (255, 255, 255)\n",
    "    font_thickness = 2\n",
    "    \n",
    "    cv2.putText(img, text, coord, font_face, font_scale, font_color, font_thickness)"
   ]
  },
  {
   "cell_type": "code",
   "execution_count": 5,
   "metadata": {},
   "outputs": [],
   "source": [
    "def make_image(coords):\n",
    "    img = np.zeros([512, 512], np.uint8)\n",
    "    for i in range(len(coords)):\n",
    "        coord = str(coords[i])\n",
    "\n",
    "        row = i % 3\n",
    "        col = i // 3\n",
    "\n",
    "        x = 20 + (row * 150)\n",
    "        y = 100 + (col * 75)\n",
    "\n",
    "        put_text(img, coord, (x, y))\n",
    "    assert np.all(np.unique(img) == [0, 255])\n",
    "    return img"
   ]
  },
  {
   "cell_type": "code",
   "execution_count": 6,
   "metadata": {},
   "outputs": [
    {
     "data": {
      "image/png": "[encoded data removed]",
      "text/plain": [
       "<Figure size 432x288 with 1 Axes>"
      ]
     },
     "metadata": {
      "needs_background": "light"
     },
     "output_type": "display_data"
    }
   ],
   "source": [
    "img_r = make_image(coords_r)\n",
    "\n",
    "plt.imshow(img_r, cmap='gray');"
   ]
  },
  {
   "cell_type": "code",
   "execution_count": 7,
   "metadata": {},
   "outputs": [
    {
     "data": {
      "image/png": "[encoded data removed]",
      "text/plain": [
       "<Figure size 432x288 with 1 Axes>"
      ]
     },
     "metadata": {
      "needs_background": "light"
     },
     "output_type": "display_data"
    }
   ],
   "source": [
    "img_g = make_image(coords_g)\n",
    "\n",
    "plt.imshow(img_g, cmap='gray');"
   ]
  },
  {
   "cell_type": "code",
   "execution_count": 8,
   "metadata": {
    "scrolled": true
   },
   "outputs": [
    {
     "data": {
      "image/png": "[encoded data removed]",
      "text/plain": [
       "<Figure size 432x288 with 1 Axes>"
      ]
     },
     "metadata": {
      "needs_background": "light"
     },
     "output_type": "display_data"
    }
   ],
   "source": [
    "img_b = make_image(coords_b)\n",
    "\n",
    "plt.imshow(img_b, cmap='gray');"
   ]
  },
  {
   "cell_type": "markdown",
   "metadata": {},
   "source": [
    "## Save"
   ]
  },
  {
   "cell_type": "code",
   "execution_count": 9,
   "metadata": {},
   "outputs": [],
   "source": [
    "os.makedirs('data', exist_ok=True)\n",
    "np.save('data/hidden_r', img_r // 255)\n",
    "np.save('data/hidden_g', img_g // 255)\n",
    "np.save('data/hidden_b', img_b // 255)\n",
    "np.save('data/coords', coords)"
   ]
  }
 ],
 "metadata": {
  "kernelspec": {
   "display_name": "Python 3",
   "language": "python",
   "name": "python3"
  },
  "language_info": {
   "codemirror_mode": {
    "name": "ipython",
    "version": 3
   },
   "file_extension": ".py",
   "mimetype": "text/x-python",
   "name": "python",
   "nbconvert_exporter": "python",
   "pygments_lexer": "ipython3",
   "version": "3.6.7"
  }
 },
 "nbformat": 4,
 "nbformat_minor": 2
}
